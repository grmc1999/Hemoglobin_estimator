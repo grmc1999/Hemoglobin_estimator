{
 "cells": [
  {
   "cell_type": "code",
   "execution_count": 22,
   "metadata": {},
   "outputs": [],
   "source": [
    "import sys\n",
    "import pathlib\n",
    "pth=str(pathlib.Path().absolute())\n",
    "sys.path.append(('\\\\').join(pth.split('\\\\')[:-1])+\"\\\\Utils\")\n",
    "from Utilities import *\n",
    "import networkx as nx\n",
    "import matplotlib.pyplot as plt\n",
    "import copy"
   ]
  },
  {
   "cell_type": "code",
   "execution_count": 9,
   "metadata": {},
   "outputs": [],
   "source": [
    "def get_graph_from_image(image,mask,desired_nodes=20):\n",
    "    SD,segments=get_Statistical_Descriptors_(image,mask,n_segments=desired_nodes)\n",
    "    nodes=np.array(list(SD))[:]\n",
    "    node_features=np.vectorize(lambda SD,node:SD[node])(SD,nodes)\n",
    "    G = nx.Graph()\n",
    "    for node in nodes[1:]:\n",
    "        data=np.array(list(node_features[node].items()))[:,1]\n",
    "        afeatures=np.concatenate((np.concatenate(data[:13]),data[13:]))\n",
    "        n_features=afeatures.shape[0]\n",
    "        G.add_node(node-1, features = afeatures)\n",
    "    \n",
    "    vs_right = np.vstack([segments[:,:-1].ravel(), segments[:,1:].ravel()])\n",
    "    vs_below = np.vstack([segments[:-1,:].ravel(), segments[1:,:].ravel()])\n",
    "    bneighbors = np.unique(np.hstack([vs_right, vs_below]), axis=1)\n",
    "    bneighbors=np.delete(bneighbors,np.where(bneighbors[1,:]==0),axis=1)\n",
    "    bneighbors=np.delete(bneighbors,np.where(bneighbors[0,:]==0),axis=1)-1\n",
    "    \n",
    "    for i in range(bneighbors.shape[1]):\n",
    "        if (bneighbors[0,i] != bneighbors[1,i]):\n",
    "            G.add_edge(bneighbors[0,i],bneighbors[1,i])\n",
    "    \n",
    "    for node in nodes[1:]:\n",
    "        G.add_edge(node-1,node-1)\n",
    "    \n",
    "    n = len(G.nodes)\n",
    "    m = len(G.edges)\n",
    "    h = np.zeros([n,n_features])\n",
    "    edges = np.zeros([2*m,2])\n",
    "    for e,(s,t) in enumerate(G.edges):\n",
    "        edges[e,0] = s\n",
    "        edges[e,1] = t\n",
    "        \n",
    "        edges[m+e,0] = t\n",
    "        edges[m+e,1] = s\n",
    "    for i in G.nodes:\n",
    "        h[i,:] = G.nodes[i][\"features\"]\n",
    "    return SD,G, h, edges\n",
    "\n",
    "def sample_central(SD,G,num=5,maxdeg=3):\n",
    "    centers=np.vectorize(pyfunc=lambda i,SD: np.array([SD[i][\"x_mean\"],SD[i][\"y_mean\"]]),\n",
    "             signature=\"(),()->(j)\")(np.arange(1,len(G.nodes)),SD)\n",
    "    c_node=np.argmin(np.linalg.norm(centers-np.mean(centers,axis=0),axis=1))\n",
    "    sampled=[c_node]\n",
    "    deg=1\n",
    "    th_deg_nei=np.array(list(nx.single_source_shortest_path_length(G, c_node, cutoff=maxdeg).items()))\n",
    "    #selected=int(centers.shape[0]*samp_frac)\n",
    "    selected=num\n",
    "    while len(sampled)!=selected:\n",
    "        nd=th_deg_nei[np.where(th_deg_nei[:,1]==1)[0]][:,0]\n",
    "        if (selected-len(sampled))<=len(nd):\n",
    "            new=np.random.choice(nd,size=selected-len(sampled),replace=False)\n",
    "        else:\n",
    "            new=nd\n",
    "        sampled=sampled+new.tolist()\n",
    "        deg=deg+1\n",
    "    return sampled"
   ]
  },
  {
   "cell_type": "code",
   "execution_count": 4,
   "metadata": {},
   "outputs": [],
   "source": [
    "name='c1anemia-300'\n",
    "di=('\\\\').join(pth.split('\\\\')[:-2])+'\\\\Data_base\\\\Imagenes_originales\\\\'+name+'.jpg'\n",
    "ROI=('\\\\').join(pth.split('\\\\')[:-2])+'\\\\Data_base\\\\Sem_Auto\\\\eye_'+name+'.jpg'\n",
    "img = io.imread(di)\n",
    "ROI = io.imread(ROI)\n",
    "f1=open(('\\\\').join(pth.split('\\\\')[:-2])+\"\\\\Data_base\\\\validcrop.txt\",\"r\")\n",
    "lines=f1.readlines()\n",
    "linesn=np.array(lines)\n",
    "linesn=np.delete(lines,np.where(linesn==\"\\n\"))\n",
    "linesn=linesn.reshape(-1,3)\n",
    "linesnc=v_replace_err(linesn)\n",
    "linesnc=np.vectorize(pyfunc=lambda x:np.array([x[0].split('\\n')[0]]),signature=\"(n)->(m)\")(linesnc.reshape(-1,1)).reshape(-1,3)\n",
    "xywh=linesnc[:,:2]\n",
    "imgnames=linesnc[:,2]\n",
    "xywh=v_no_spaces(xywh)\n",
    "xywh=np.vectorize(pyfunc=(lambda x:float(x)))(xywh.reshape(1,-1)[0])\n",
    "xywh=xywh.reshape(-1,4).astype(int)+1\n",
    "\n",
    "mr=xywh[np.where(imgnames==(name+\".jpg\"))][0]\n",
    "mask=assemble_mask(mr,img,ROI)"
   ]
  },
  {
   "cell_type": "code",
   "execution_count": 5,
   "metadata": {},
   "outputs": [
    {
     "name": "stderr",
     "output_type": "stream",
     "text": [
      "<ipython-input-2-1c7f50201b06>:7: VisibleDeprecationWarning: Creating an ndarray from ragged nested sequences (which is a list-or-tuple of lists-or-tuples-or ndarrays with different lengths or shapes) is deprecated. If you meant to do this, you must specify 'dtype=object' when creating the ndarray.\n",
      "  data=np.array(list(node_features[node].items()))[:,1]\n"
     ]
    }
   ],
   "source": [
    "SD,G,h,edges=get_graph_from_image(img,mask,desired_nodes=20)"
   ]
  },
  {
   "cell_type": "code",
   "execution_count": 57,
   "metadata": {},
   "outputs": [
    {
     "name": "stdout",
     "output_type": "stream",
     "text": [
      "4\n",
      "[10 19 19]\n",
      "[12, 10, 19, 19]\n"
     ]
    },
    {
     "data": {
      "text/plain": [
       "[12, 13, 17, 19]"
      ]
     },
     "execution_count": 57,
     "metadata": {},
     "output_type": "execute_result"
    }
   ],
   "source": [
    "centers=np.vectorize(pyfunc=lambda i,SD: np.array([SD[i][\"x_mean\"],SD[i][\"y_mean\"]]),\n",
    "             signature=\"(),()->(j)\")(np.arange(1,len(G.nodes)),SD)\n",
    "c_node=np.argmin(np.linalg.norm(centers-np.mean(centers,axis=0),axis=1))\n",
    "sampled=[c_node]\n",
    "centers.shape[0]\n",
    "deg=1\n",
    "th_deg_nei=np.array(list(nx.single_source_shortest_path_length(G, c_node, cutoff=3).items()))\n",
    "selected=int(centers.shape[0]*0.25)\n",
    "print(selected)\n",
    "while len(sampled)!=selected:\n",
    "    nd=th_deg_nei[np.where(th_deg_nei[:,1]==1)[0]][:,0]\n",
    "    if (selected-len(sampled))<=len(nd):\n",
    "        new=np.random.choice(nd,size=selected-len(sampled))\n",
    "    else:\n",
    "        new=nd\n",
    "    print(new)\n",
    "    sampled=sampled+new.tolist()\n",
    "    print(sampled)\n",
    "    deg=deg+1\n",
    "    \n",
    "\n",
    "\n"
   ]
  },
  {
   "cell_type": "code",
   "execution_count": 11,
   "metadata": {},
   "outputs": [],
   "source": [
    "Sampled=sample_central(SD,G,num=5,maxdeg=3)"
   ]
  },
  {
   "cell_type": "code",
   "execution_count": null,
   "metadata": {},
   "outputs": [],
   "source": [
    "lum = np.mean(mask,axis=2).astype(int)\n",
    "mask1=lum>0\n",
    "m_slic = slic(img, n_segments=20,sigma=5,mask=mask1)"
   ]
  },
  {
   "cell_type": "code",
   "execution_count": null,
   "metadata": {},
   "outputs": [],
   "source": [
    "plt.plot(centers[:,1],centers[:,0], 'ro')\n",
    "plt.show()\n",
    "fig = plt.figure(\"Superpixels -- %d segments\" % (500),figsize=(10,10))\n",
    "ax = fig.add_subplot(1, 1, 1)\n",
    "ax.imshow(mark_boundaries(img, m_slic))\n",
    "ax.plot(centers[:,1],centers[:,0], 'ro')\n",
    "ax.plot(np.mean(centers[:,1]),np.mean(centers[:,0]), 'bo')\n",
    "plt.axis(\"off\")"
   ]
  },
  {
   "cell_type": "code",
   "execution_count": null,
   "metadata": {},
   "outputs": [],
   "source": [
    "th_deg_nei=np.array(list(nx.single_source_shortest_path_length(G, c_node, cutoff=3).items()))\n",
    "len(th_deg_nei[np.where(th_deg_nei[:,1]==1)[0]][:,0])"
   ]
  },
  {
   "cell_type": "code",
   "execution_count": 27,
   "metadata": {},
   "outputs": [],
   "source": [
    "SDC=copy.deepcopy(SD)\n",
    "NSD={}"
   ]
  },
  {
   "cell_type": "code",
   "execution_count": 28,
   "metadata": {},
   "outputs": [],
   "source": [
    "NSD={}\n",
    "for ID in Sampled:\n",
    "    NSD[ID]=SD[ID]"
   ]
  },
  {
   "cell_type": "code",
   "execution_count": 29,
   "metadata": {},
   "outputs": [
    {
     "data": {
      "text/plain": [
       "{12: {'rbg_mean': array([0., 0., 0.]),\n",
       "  'rgb_std': array([19.83668785, 17.48887496,  0.06360356]),\n",
       "  'rgb_per': array([14.,  2.,  0.]),\n",
       "  'rgb_mo': array([8.60000000e+01, 7.90000000e+01, 1.45833333e-02]),\n",
       "  'lab_mean': array([22.05591537, 15.39801769, 12.        ]),\n",
       "  'lab_std': array([6.57559133, 1.99271511, 0.        ]),\n",
       "  'lab_per': array([-4.14261919,  2.99262169, 12.        ]),\n",
       "  'lab_mo': array([16.32126691, 14.0863298 , 12.        ]),\n",
       "  'hsv_mean': array([ 0.42957686,  0.61558688, 48.25828857]),\n",
       "  'hsv_std': array([0.07305608, 0.04974373, 6.34180988]),\n",
       "  'hsv_per': array([ 0.04705882,  0.23921569, 11.57237024]),\n",
       "  'hsv_mo': array([ 0.37951807,  0.58823529, 44.32331113]),\n",
       "  'rgb_mean': array([9.96291116e+01, 8.99619140e+01, 2.98979599e-02]),\n",
       "  'x_mean': 1535.2589155875633,\n",
       "  'x_std': 35.37613622344871,\n",
       "  'y_mean': 1489.3891004778063,\n",
       "  'y_std': 34.29541741590654,\n",
       "  'N': 14441},\n",
       " 19: {'rbg_mean': array([0., 0., 0.]),\n",
       "  'rgb_std': array([22.90521636, 19.00360358,  0.26396224]),\n",
       "  'rgb_per': array([25., 25.,  0.]),\n",
       "  'rgb_mo': array([7.30000000e+01, 6.90000000e+01, 9.25925926e-03]),\n",
       "  'lab_mean': array([29.96531878, 19.05303101, 19.        ]),\n",
       "  'lab_std': array([9.17061473, 3.42019996, 0.        ]),\n",
       "  'lab_per': array([ 7.29086279,  5.25626516, 19.        ]),\n",
       "  'lab_mo': array([23.49125896, 17.52673621, 19.        ]),\n",
       "  'hsv_mean': array([ 0.50821155,  0.65093463, 47.32957316]),\n",
       "  'hsv_std': array([0.10343976, 0.03011694, 6.1807611 ]),\n",
       "  'hsv_per': array([ 0.19101124,  0.49411765, 28.01908356]),\n",
       "  'hsv_mo': array([ 0.45121951,  0.63137255, 42.77188877]),\n",
       "  'rgb_mean': array([90.25921632, 82.14815674,  0.09726117]),\n",
       "  'x_mean': 1644.4207434886775,\n",
       "  'x_std': 29.079713901677557,\n",
       "  'y_mean': 1955.4909962129996,\n",
       "  'y_std': 37.15587935947724,\n",
       "  'N': 12939},\n",
       " 17: {'rbg_mean': array([0., 0., 0.]),\n",
       "  'rgb_std': array([20.54657221, 16.33914266,  0.14177708]),\n",
       "  'rgb_per': array([46., 40.,  0.]),\n",
       "  'rgb_mo': array([8.00000000e+01, 7.40000000e+01, 1.34099617e-02]),\n",
       "  'lab_mean': array([26.29927991, 18.02725295, 17.        ]),\n",
       "  'lab_std': array([7.5162967 , 2.01191745, 0.        ]),\n",
       "  'lab_per': array([ 7.26134652,  9.1616575 , 17.        ]),\n",
       "  'lab_mo': array([20.32758508, 16.82421405, 17.        ]),\n",
       "  'hsv_mean': array([ 0.47982237,  0.63917672, 48.0373981 ]),\n",
       "  'hsv_std': array([0.08136439, 0.03090449, 5.92148078]),\n",
       "  'hsv_per': array([ 0.16078431,  0.50196078, 31.67178877]),\n",
       "  'hsv_mo': array([ 0.42196532,  0.61960784, 43.68029079]),\n",
       "  'rgb_mean': array([9.54440605e+01, 8.52616991e+01, 4.51415941e-02]),\n",
       "  'x_mean': 1593.7991360691144,\n",
       "  'x_std': 33.918064562195646,\n",
       "  'y_mean': 1592.638588912887,\n",
       "  'y_std': 34.03161588150515,\n",
       "  'N': 13890},\n",
       " 13: {'rbg_mean': array([0., 0., 0.]),\n",
       "  'rgb_std': array([13.08805809, 14.85088467,  0.12264184]),\n",
       "  'rgb_per': array([80., 68.,  0.]),\n",
       "  'rgb_mo': array([1.15000000e+02, 1.03000000e+02, 2.53623188e-02]),\n",
       "  'lab_mean': array([15.49356028, 11.8590111 , 13.        ]),\n",
       "  'lab_std': array([2.61057934, 2.55022143, 0.        ]),\n",
       "  'lab_per': array([ 2.40776254,  5.9014731 , 13.        ]),\n",
       "  'lab_mo': array([13.1824607 , 10.16991922, 13.        ]),\n",
       "  'hsv_mean': array([ 0.32432803,  0.63987284, 54.45553763]),\n",
       "  'hsv_std': array([0.05476085, 0.04517578, 4.85515366]),\n",
       "  'hsv_per': array([ 0.16551724,  0.4627451 , 37.87709241]),\n",
       "  'hsv_mo': array([ 0.28070175,  0.62745098, 52.8892643 ]),\n",
       "  'rgb_mean': array([1.20180348e+02, 1.10706029e+02, 4.61074306e-02]),\n",
       "  'x_mean': 1533.1096025011166,\n",
       "  'x_std': 37.62639561479739,\n",
       "  'y_mean': 1765.8440375167486,\n",
       "  'y_std': 24.868514776721625,\n",
       "  'N': 11195},\n",
       " 10: {'rbg_mean': array([0., 0., 0.]),\n",
       "  'rgb_std': array([30.17800082, 24.39572647,  0.48196044]),\n",
       "  'rgb_per': array([24., 29.,  0.]),\n",
       "  'rgb_mo': array([4.40000000e+01, 4.60000000e+01, 1.45833333e-02]),\n",
       "  'lab_mean': array([35.22346306, 21.09490441, 10.        ]),\n",
       "  'lab_std': array([11.507985  ,  4.55442988,  0.        ]),\n",
       "  'lab_per': array([ 7.02537087,  6.04936383, 10.        ]),\n",
       "  'lab_mo': array([25.77706631, 18.94575798, 10.        ]),\n",
       "  'hsv_mean': array([ 0.59695095,  0.60519562, 40.85645346]),\n",
       "  'hsv_std': array([0.14754781, 0.02769381, 7.70128197]),\n",
       "  'hsv_per': array([ 0.18604651,  0.50980392, 29.15759868]),\n",
       "  'hsv_mo': array([ 0.50313489,  0.58431373, 34.85623761]),\n",
       "  'rgb_mean': array([67.84130553, 64.37980376,  0.43548446]),\n",
       "  'x_mean': 1481.9593213409648,\n",
       "  'x_std': 34.75773012453037,\n",
       "  'y_mean': 2164.667143635868,\n",
       "  'y_std': 37.3134233786111,\n",
       "  'N': 14676}}"
      ]
     },
     "execution_count": 29,
     "metadata": {},
     "output_type": "execute_result"
    }
   ],
   "source": [
    "NSD"
   ]
  }
 ],
 "metadata": {
  "kernelspec": {
   "display_name": "Python 3",
   "language": "python",
   "name": "python3"
  },
  "language_info": {
   "codemirror_mode": {
    "name": "ipython",
    "version": 3
   },
   "file_extension": ".py",
   "mimetype": "text/x-python",
   "name": "python",
   "nbconvert_exporter": "python",
   "pygments_lexer": "ipython3",
   "version": "3.8.5"
  }
 },
 "nbformat": 4,
 "nbformat_minor": 4
}
