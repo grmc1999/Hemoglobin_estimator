{
 "cells": [
  {
   "cell_type": "code",
   "execution_count": 1,
   "metadata": {},
   "outputs": [],
   "source": [
    "import sys\n",
    "import pathlib\n",
    "pth=str(pathlib.Path().absolute())\n",
    "sys.path.append(('\\\\').join(pth.split('\\\\')[:-1])+\"\\\\Utils\")\n",
    "from Utilities import *\n",
    "import networkx as nx\n",
    "import matplotlib.pyplot as plt"
   ]
  },
  {
   "cell_type": "code",
   "execution_count": 2,
   "metadata": {},
   "outputs": [],
   "source": [
    "def get_graph_from_image(image,mask,desired_nodes=20):\n",
    "    SD,segments=get_Statistical_Descriptors_(image,mask,n_segments=desired_nodes)\n",
    "    nodes=np.array(list(SD))[:]\n",
    "    node_features=np.vectorize(lambda SD,node:SD[node])(SD,nodes)\n",
    "    G = nx.Graph()\n",
    "    for node in nodes[1:]:\n",
    "        data=np.array(list(node_features[node].items()))[:,1]\n",
    "        afeatures=np.concatenate((np.concatenate(data[:13]),data[13:]))\n",
    "        n_features=afeatures.shape[0]\n",
    "        G.add_node(node-1, features = afeatures)\n",
    "    \n",
    "    vs_right = np.vstack([segments[:,:-1].ravel(), segments[:,1:].ravel()])\n",
    "    vs_below = np.vstack([segments[:-1,:].ravel(), segments[1:,:].ravel()])\n",
    "    bneighbors = np.unique(np.hstack([vs_right, vs_below]), axis=1)\n",
    "    bneighbors=np.delete(bneighbors,np.where(bneighbors[1,:]==0),axis=1)\n",
    "    bneighbors=np.delete(bneighbors,np.where(bneighbors[0,:]==0),axis=1)-1\n",
    "    \n",
    "    for i in range(bneighbors.shape[1]):\n",
    "        if (bneighbors[0,i] != bneighbors[1,i]):\n",
    "            G.add_edge(bneighbors[0,i],bneighbors[1,i])\n",
    "    \n",
    "    for node in nodes[1:]:\n",
    "        G.add_edge(node-1,node-1)\n",
    "    \n",
    "    n = len(G.nodes)\n",
    "    m = len(G.edges)\n",
    "    h = np.zeros([n,n_features])\n",
    "    edges = np.zeros([2*m,2])\n",
    "    for e,(s,t) in enumerate(G.edges):\n",
    "        edges[e,0] = s\n",
    "        edges[e,1] = t\n",
    "        \n",
    "        edges[m+e,0] = t\n",
    "        edges[m+e,1] = s\n",
    "    for i in G.nodes:\n",
    "        h[i,:] = G.nodes[i][\"features\"]\n",
    "    return SD,G, h, edges\n",
    "\n",
    "def sample_central(SD,G,samp_frac=0.25,maxdeg=3):\n",
    "    centers=np.vectorize(pyfunc=lambda i,SD: np.array([SD[i][\"x_mean\"],SD[i][\"y_mean\"]]),\n",
    "             signature=\"(),()->(j)\")(np.arange(1,len(G.nodes)),SD)\n",
    "    c_node=np.argmin(np.linalg.norm(centers-np.mean(centers,axis=0),axis=1))\n",
    "    sampled=[c_node]\n",
    "    deg=1\n",
    "    th_deg_nei=np.array(list(nx.single_source_shortest_path_length(G, c_node, cutoff=maxdeg).items()))\n",
    "    selected=int(centers.shape[0]*samp_frac)\n",
    "    while len(sampled)!=selected:\n",
    "        nd=th_deg_nei[np.where(th_deg_nei[:,1]==1)[0]][:,0]\n",
    "        if (selected-len(sampled))<=len(nd):\n",
    "            new=np.random.choice(nd,size=selected-len(sampled),replace=False)\n",
    "        else:\n",
    "            new=nd\n",
    "        sampled=sampled+new.tolist()\n",
    "        deg=deg+1\n",
    "    return sampled"
   ]
  },
  {
   "cell_type": "code",
   "execution_count": 3,
   "metadata": {},
   "outputs": [],
   "source": [
    "name='c1anemia-300'\n",
    "di=('\\\\').join(pth.split('\\\\')[:-2])+'\\\\Data_base\\\\Imagenes_originales\\\\'+name+'.jpg'\n",
    "ROI=('\\\\').join(pth.split('\\\\')[:-2])+'\\\\Data_base\\\\Sem_Auto\\\\eye_'+name+'.jpg'\n",
    "img = io.imread(di)\n",
    "ROI = io.imread(ROI)\n",
    "f1=open(('\\\\').join(pth.split('\\\\')[:-2])+\"\\\\Data_base\\\\validcrop.txt\",\"r\")\n",
    "lines=f1.readlines()\n",
    "linesn=np.array(lines)\n",
    "linesn=np.delete(lines,np.where(linesn==\"\\n\"))\n",
    "linesn=linesn.reshape(-1,3)\n",
    "linesnc=v_replace_err(linesn)\n",
    "linesnc=np.vectorize(pyfunc=lambda x:np.array([x[0].split('\\n')[0]]),signature=\"(n)->(m)\")(linesnc.reshape(-1,1)).reshape(-1,3)\n",
    "xywh=linesnc[:,:2]\n",
    "imgnames=linesnc[:,2]\n",
    "xywh=v_no_spaces(xywh)\n",
    "xywh=np.vectorize(pyfunc=(lambda x:float(x)))(xywh.reshape(1,-1)[0])\n",
    "xywh=xywh.reshape(-1,4).astype(int)+1\n",
    "\n",
    "mr=xywh[np.where(imgnames==(name+\".jpg\"))][0]\n",
    "mask=assemble_mask(mr,img,ROI)"
   ]
  },
  {
   "cell_type": "code",
   "execution_count": 4,
   "metadata": {},
   "outputs": [
    {
     "name": "stderr",
     "output_type": "stream",
     "text": [
      "<ipython-input-2-1c7f50201b06>:7: VisibleDeprecationWarning: Creating an ndarray from ragged nested sequences (which is a list-or-tuple of lists-or-tuples-or ndarrays with different lengths or shapes) is deprecated. If you meant to do this, you must specify 'dtype=object' when creating the ndarray.\n",
      "  data=np.array(list(node_features[node].items()))[:,1]\n"
     ]
    }
   ],
   "source": [
    "SD,G,h,edges=get_graph_from_image(img,mask,desired_nodes=20)"
   ]
  },
  {
   "cell_type": "code",
   "execution_count": 57,
   "metadata": {},
   "outputs": [
    {
     "name": "stdout",
     "output_type": "stream",
     "text": [
      "4\n",
      "[10 19 19]\n",
      "[12, 10, 19, 19]\n"
     ]
    },
    {
     "data": {
      "text/plain": [
       "[12, 13, 17, 19]"
      ]
     },
     "execution_count": 57,
     "metadata": {},
     "output_type": "execute_result"
    }
   ],
   "source": [
    "centers=np.vectorize(pyfunc=lambda i,SD: np.array([SD[i][\"x_mean\"],SD[i][\"y_mean\"]]),\n",
    "             signature=\"(),()->(j)\")(np.arange(1,len(G.nodes)),SD)\n",
    "c_node=np.argmin(np.linalg.norm(centers-np.mean(centers,axis=0),axis=1))\n",
    "sampled=[c_node]\n",
    "centers.shape[0]\n",
    "deg=1\n",
    "th_deg_nei=np.array(list(nx.single_source_shortest_path_length(G, c_node, cutoff=3).items()))\n",
    "selected=int(centers.shape[0]*0.25)\n",
    "print(selected)\n",
    "while len(sampled)!=selected:\n",
    "    nd=th_deg_nei[np.where(th_deg_nei[:,1]==1)[0]][:,0]\n",
    "    if (selected-len(sampled))<=len(nd):\n",
    "        new=np.random.choice(nd,size=selected-len(sampled))\n",
    "    else:\n",
    "        new=nd\n",
    "    print(new)\n",
    "    sampled=sampled+new.tolist()\n",
    "    print(sampled)\n",
    "    deg=deg+1\n",
    "    \n",
    "\n",
    "\n"
   ]
  },
  {
   "cell_type": "code",
   "execution_count": 5,
   "metadata": {},
   "outputs": [
    {
     "data": {
      "text/plain": [
       "[12, 19, 10, 17]"
      ]
     },
     "execution_count": 5,
     "metadata": {},
     "output_type": "execute_result"
    }
   ],
   "source": [
    "sample_central(SD,G,samp_frac=0.25,maxdeg=3)"
   ]
  },
  {
   "cell_type": "code",
   "execution_count": null,
   "metadata": {},
   "outputs": [],
   "source": [
    "lum = np.mean(mask,axis=2).astype(int)\n",
    "mask1=lum>0\n",
    "m_slic = slic(img, n_segments=20,sigma=5,mask=mask1)"
   ]
  },
  {
   "cell_type": "code",
   "execution_count": null,
   "metadata": {},
   "outputs": [],
   "source": [
    "plt.plot(centers[:,1],centers[:,0], 'ro')\n",
    "plt.show()\n",
    "fig = plt.figure(\"Superpixels -- %d segments\" % (500),figsize=(10,10))\n",
    "ax = fig.add_subplot(1, 1, 1)\n",
    "ax.imshow(mark_boundaries(img, m_slic))\n",
    "ax.plot(centers[:,1],centers[:,0], 'ro')\n",
    "ax.plot(np.mean(centers[:,1]),np.mean(centers[:,0]), 'bo')\n",
    "plt.axis(\"off\")"
   ]
  },
  {
   "cell_type": "code",
   "execution_count": null,
   "metadata": {},
   "outputs": [],
   "source": [
    "th_deg_nei=np.array(list(nx.single_source_shortest_path_length(G, c_node, cutoff=3).items()))\n",
    "len(th_deg_nei[np.where(th_deg_nei[:,1]==1)[0]][:,0])"
   ]
  },
  {
   "cell_type": "code",
   "execution_count": 212,
   "metadata": {},
   "outputs": [
    {
     "data": {
      "text/plain": [
       "{12: 0,\n",
       " 10: 1,\n",
       " 13: 1,\n",
       " 17: 1,\n",
       " 19: 1,\n",
       " 7: 2,\n",
       " 15: 2,\n",
       " 16: 2,\n",
       " 18: 2,\n",
       " 5: 3,\n",
       " 11: 3,\n",
       " 14: 3}"
      ]
     },
     "execution_count": 212,
     "metadata": {},
     "output_type": "execute_result"
    }
   ],
   "source": [
    "th_deg_nei[np.where(th_deg_nei[:,1]==1)[0]][:,0]"
   ]
  }
 ],
 "metadata": {
  "kernelspec": {
   "display_name": "Python 3",
   "language": "python",
   "name": "python3"
  },
  "language_info": {
   "codemirror_mode": {
    "name": "ipython",
    "version": 3
   },
   "file_extension": ".py",
   "mimetype": "text/x-python",
   "name": "python",
   "nbconvert_exporter": "python",
   "pygments_lexer": "ipython3",
   "version": "3.8.5"
  }
 },
 "nbformat": 4,
 "nbformat_minor": 4
}
