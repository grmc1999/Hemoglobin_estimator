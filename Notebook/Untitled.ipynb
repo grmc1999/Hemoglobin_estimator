{
 "cells": [
  {
   "cell_type": "code",
   "execution_count": 4,
   "metadata": {},
   "outputs": [],
   "source": [
    "import pandas as pd\n",
    "import numpy as np\n",
    "\n",
    "import pathlib\n",
    "pth=str(pathlib.Path().absolute())\n",
    "\n",
    "import os\n",
    "\n",
    "import sys\n",
    "sys.path.append((\"\\\\\").join(pth.split(\"\\\\\")[:-1])+\"\\\\Utils\")\n",
    "sys.path.append((\"\\\\\").join(pth.split(\"\\\\\")[:-1])+\"\\\\SLIC_GAT\")\n",
    "\n",
    "data_path=(\"\\\\\").join(pth.split(\"\\\\\")[:-4])+\"\\\\Data_Base\"\n",
    "img_data_path=(\"\\\\\").join(pth.split(\"\\\\\")[:-4])+\"\\\\Data_Base\\\\Sem_Auto1\""
   ]
  },
  {
   "cell_type": "code",
   "execution_count": null,
   "metadata": {},
   "outputs": [],
   "source": []
  }
 ],
 "metadata": {
  "kernelspec": {
   "display_name": "Python 3",
   "language": "python",
   "name": "python3"
  },
  "language_info": {
   "codemirror_mode": {
    "name": "ipython",
    "version": 3
   },
   "file_extension": ".py",
   "mimetype": "text/x-python",
   "name": "python",
   "nbconvert_exporter": "python",
   "pygments_lexer": "ipython3",
   "version": "3.8.10"
  }
 },
 "nbformat": 4,
 "nbformat_minor": 4
}
